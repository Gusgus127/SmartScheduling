{
 "cells": [
  {
   "cell_type": "markdown",
   "id": "78b338e3",
   "metadata": {},
   "source": [
    "# Smart Scheduling\n",
    "**Goal**: Use existing patterns in attendance and academic performance to simulate alternative scheduling strategies (e.g., shifting certain courses, grouping high-engagement sessions earlier/later) to optimize expected attendance."
   ]
  },
  {
   "cell_type": "code",
   "execution_count": 18,
   "id": "4a07af6c",
   "metadata": {},
   "outputs": [],
   "source": [
    "import pandas as pd\n",
    "import matplotlib.pyplot as plt\n",
    "import seaborn as sns\n",
    "\n",
    "schedule_df = pd.read_csv('schedule_data.csv')\n",
    "attendance_df = pd.read_csv('attendance_feie.csv')\n",
    "\n",
    "# Clean column names\n",
    "attendance_df.columns = (\n",
    "    attendance_df.columns.str.strip()\n",
    "    .str.lower()\n",
    "    .str.replace(' ', '_')\n",
    "    .str.replace('à', 'a')\n",
    "    .str.replace('è', 'e')\n",
    "    .str.replace('é', 'e')\n",
    "    .str.replace('ò', 'o')\n",
    "    .str.replace('ç', 'c')\n",
    "    .str.replace('ñ', 'n')\n",
    "    .str.replace('á', 'a')\n",
    "    .str.replace('í', 'i')\n",
    "    .str.replace('ó', 'o')\n",
    "    .str.replace('ú', 'u')\n",
    ")"
   ]
  },
  {
   "cell_type": "code",
   "execution_count": null,
   "id": "08345fc7",
   "metadata": {},
   "outputs": [
    {
     "name": "stdout",
     "output_type": "stream",
     "text": [
      "                        assignatura  attendance_rate  taxa_de_rendiment  \\\n",
      "118                 Matemàtiques II         0.673333              0.844   \n",
      "51                    Estadística I         0.615385              0.890   \n",
      "89   Introducció a la comptabilitat         0.675000              0.742   \n",
      "40           Economia Internacional         0.520833              0.896   \n",
      "\n",
      "     engagement_score  \n",
      "118          0.758667  \n",
      "51           0.752692  \n",
      "89           0.708500  \n",
      "40           0.708417  \n"
     ]
    }
   ],
   "source": [
    "# Create group label\n",
    "attendance_df['grup_estudi'] = attendance_df['titulacio'] + \" - \" + attendance_df['curs'].astype(str) + \" - \" + attendance_df['horari']\n",
    "schedule_df['grup_estudi'] = schedule_df['titulacio'] + \" - \" + schedule_df['curs'].astype(str) + \" - \" + schedule_df['horari']\n",
    "\n",
    "day_mapping = {\n",
    "    1: 'dilluns',\n",
    "    2: 'dimarts', \n",
    "    3: 'dimecres',\n",
    "    4: 'dijous',\n",
    "    5: 'divendres'\n",
    "}\n",
    "\n",
    "# Session-level attendance rates\n",
    "session_cols = [col for col in attendance_df.columns if col.startswith('s') and col[1:].isdigit()]\n",
    "\n",
    "attendance_df['attendance_total'] = attendance_df[session_cols].sum(axis=1)\n",
    "attendance_df['attendance_rate'] = (\n",
    "    attendance_df['attendance_total'] /\n",
    "    (attendance_df['num_sessions'] * attendance_df['matricules-assignatura'])\n",
    ")\n",
    "attendance_df['engagement_score'] = (0.5 * attendance_df['attendance_rate'] + 0.5 * attendance_df['taxa_de_rendiment'])\n",
    "\n",
    "ade_1_mati = attendance_df[attendance_df['grup_estudi'].str.contains(\"ADE - 1 - mati\")]\n",
    "summary = ade_1_mati[['assignatura', 'attendance_rate', 'taxa_de_rendiment', 'engagement_score']].sort_values(by='engagement_score', ascending=False)\n",
    "print(summary)"
   ]
  },
  {
   "cell_type": "code",
   "execution_count": null,
   "id": "f2e19671",
   "metadata": {},
   "outputs": [
    {
     "name": "stdout",
     "output_type": "stream",
     "text": [
      "  titulacio  curs horari           assignatura  codi_assignatura  semestre  \\\n",
      "0       ADE     1   mati        Matemàtiques I            102345         1   \n",
      "1       ADE     1   mati        Matemàtiques I            102345         1   \n",
      "2       ADE     1   mati                  Dret            102340         1   \n",
      "3       ADE     1   mati                  Dret            102340         1   \n",
      "4       ADE     1   mati  Hª Econòmica Mundial            102330         1   \n",
      "\n",
      "        day  day_code  session         hour  tipus     grup_estudi start_time  \\\n",
      "0   dilluns         1        1         9-11      0  ADE - 1 - mati       9.00   \n",
      "1  dimecres         3        2  11.15-13.15      1  ADE - 1 - mati      11.15   \n",
      "2   dimarts         2        1         9-11      0  ADE - 1 - mati       9.00   \n",
      "3    dijous         4        2  11.15-14.15      1  ADE - 1 - mati      11.15   \n",
      "4  dimecres         3        1         9-11      0  ADE - 1 - mati       9.00   \n",
      "\n",
      "  end_time start_datetime end_datetime  duration session_type  \n",
      "0    11.00       09:00:00     11:00:00       2.0      lecture  \n",
      "1    13.15       11:15:00     13:15:00       2.0    practical  \n",
      "2    11.00       09:00:00     11:00:00       2.0      lecture  \n",
      "3    14.15       11:15:00     14:15:00       3.0    practical  \n",
      "4    11.00       09:00:00     11:00:00       2.0      lecture  \n"
     ]
    }
   ],
   "source": [
    "# Process schedule data to extract temporal features\n",
    "def extract_time_features(df):\n",
    "    def normalize_time(time_str):\n",
    "        if '.' not in str(time_str): \n",
    "            return f\"{time_str}.00\"\n",
    "        return str(time_str)\n",
    "    \n",
    "    # Extract start and end times\n",
    "    time_parts = df['hour'].str.split('-', expand=True)\n",
    "    df['start_time'] = time_parts[0].apply(normalize_time)\n",
    "    df['end_time'] = time_parts[1].apply(normalize_time)\n",
    "    \n",
    "    # Convert to datetime.time objects\n",
    "    df['start_datetime'] = pd.to_datetime(df['start_time'], format='%H.%M', errors='coerce').dt.time\n",
    "    df['end_datetime'] = pd.to_datetime(df['end_time'], format='%H.%M', errors='coerce').dt.time\n",
    "    \n",
    "    df['duration'] = (\n",
    "        pd.to_datetime(df['end_time'], format='%H.%M') - \n",
    "        pd.to_datetime(df['start_time'], format='%H.%M')\n",
    "    ).dt.total_seconds() / 3600\n",
    "    \n",
    "    # names to lowercase to match attendance data\n",
    "    df['day'] = df['day'].str.lower()\n",
    "    \n",
    "    # Session type (0=lecture, 1=practical)\n",
    "    df['session_type'] = df['tipus'].map({0: 'lecture', 1: 'practical'})\n",
    "    \n",
    "    return df\n",
    "\n",
    "schedule_df = extract_time_features(schedule_df)\n",
    "print(schedule_df.head())"
   ]
  },
  {
   "cell_type": "markdown",
   "id": "3fd7b148",
   "metadata": {},
   "source": [
    "**Merge Schedule and Attendance Data**"
   ]
  },
  {
   "cell_type": "code",
   "execution_count": null,
   "id": "422d4bfb",
   "metadata": {},
   "outputs": [],
   "source": [
    "merged_df = pd.merge(\n",
    "    schedule_df,\n",
    "    attendance_df,\n",
    "    left_on=['assignatura', 'codi_assignatura', 'grup_estudi'],\n",
    "    right_on=['assignatura', 'codi_assignatura', 'grup_estudi'],\n",
    "    how='left'\n",
    ")"
   ]
  },
  {
   "cell_type": "markdown",
   "id": "324e725c",
   "metadata": {},
   "source": [
    "**Additional Features**"
   ]
  },
  {
   "cell_type": "code",
   "execution_count": null,
   "id": "74a5da3e",
   "metadata": {},
   "outputs": [],
   "source": [
    "def create_temporal_features(df):\n",
    "    # Time of day categories\n",
    "    df['time_of_day'] = pd.cut(\n",
    "        pd.to_datetime(df['start_time'], format='%H.%M').dt.hour,\n",
    "        bins=[0, 10, 13, 17, 24],\n",
    "        labels=['early_morning', 'late_morning', 'afternoon', 'evening'],\n",
    "        right=False\n",
    "    )\n",
    "    return df\n",
    "\n",
    "merged_df = create_temporal_features(merged_df)"
   ]
  },
  {
   "cell_type": "code",
   "execution_count": 23,
   "id": "2c9a18f2",
   "metadata": {},
   "outputs": [],
   "source": [
    "features_to_keep = [\n",
    "    'grup_estudi', 'assignatura', 'codi_assignatura', 'semestre',\n",
    "    'day', 'day_code', 'session', 'hour', 'start_time', 'end_time',\n",
    "    'duration', 'session_type', 'matricules-assignatura',\n",
    "    'attendance_rate', 'taxa_de_rendiment', 'engagement_score', 'time_of_day'\n",
    "]\n",
    "\n",
    "final_df = merged_df[features_to_keep]\n",
    "\n",
    "# 12. Save prepared data\n",
    "final_df.to_csv('prepared_schedule_data.csv', index=False)"
   ]
  }
 ],
 "metadata": {
  "kernelspec": {
   "display_name": "Python 3",
   "language": "python",
   "name": "python3"
  },
  "language_info": {
   "codemirror_mode": {
    "name": "ipython",
    "version": 3
   },
   "file_extension": ".py",
   "mimetype": "text/x-python",
   "name": "python",
   "nbconvert_exporter": "python",
   "pygments_lexer": "ipython3",
   "version": "3.12.10"
  }
 },
 "nbformat": 4,
 "nbformat_minor": 5
}
